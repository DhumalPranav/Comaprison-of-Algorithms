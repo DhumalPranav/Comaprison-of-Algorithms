{
 "cells": [
  {
   "cell_type": "code",
   "execution_count": 113,
   "id": "e3bc2de4",
   "metadata": {
    "execution": {
     "iopub.execute_input": "2023-01-12T15:57:58.927153Z",
     "iopub.status.busy": "2023-01-12T15:57:58.926632Z",
     "iopub.status.idle": "2023-01-12T15:58:00.291583Z",
     "shell.execute_reply": "2023-01-12T15:58:00.290367Z"
    },
    "papermill": {
     "duration": 1.376803,
     "end_time": "2023-01-12T15:58:00.294915",
     "exception": false,
     "start_time": "2023-01-12T15:57:58.918112",
     "status": "completed"
    },
    "tags": []
   },
   "outputs": [],
   "source": [
    "import pandas as pd             \n",
    "import matplotlib.pyplot as plt      \n",
    "import pandas as pd\n",
    "import numpy as np\n",
    "import seaborn as sns\n",
    "from mlxtend.frequent_patterns import apriori, association_rules\n",
    "from mlxtend.frequent_patterns import fpgrowth\n",
    "from mlxtend.preprocessing import TransactionEncoder"
   ]
  },
  {
   "cell_type": "code",
   "execution_count": 114,
   "id": "16cc8adc",
   "metadata": {
    "execution": {
     "iopub.execute_input": "2023-01-12T15:58:00.349999Z",
     "iopub.status.busy": "2023-01-12T15:58:00.349455Z",
     "iopub.status.idle": "2023-01-12T15:58:00.482599Z",
     "shell.execute_reply": "2023-01-12T15:58:00.481192Z"
    },
    "papermill": {
     "duration": 0.14621,
     "end_time": "2023-01-12T15:58:00.485429",
     "exception": false,
     "start_time": "2023-01-12T15:58:00.339219",
     "status": "completed"
    },
    "tags": []
   },
   "outputs": [
    {
     "name": "stdout",
     "output_type": "stream",
     "text": [
      "9835\n"
     ]
    }
   ],
   "source": [
    "data=pd.read_csv(\"groceries - groceries.csv\")\n",
    "tansaction_no=len(data)\n",
    "print(tansaction_no)"
   ]
  },
  {
   "cell_type": "code",
   "execution_count": 115,
   "id": "42173cef",
   "metadata": {
    "execution": {
     "iopub.execute_input": "2023-01-12T15:58:00.502049Z",
     "iopub.status.busy": "2023-01-12T15:58:00.501437Z",
     "iopub.status.idle": "2023-01-12T15:58:00.539674Z",
     "shell.execute_reply": "2023-01-12T15:58:00.538263Z"
    },
    "papermill": {
     "duration": 0.04996,
     "end_time": "2023-01-12T15:58:00.542510",
     "exception": false,
     "start_time": "2023-01-12T15:58:00.492550",
     "status": "completed"
    },
    "tags": []
   },
   "outputs": [],
   "source": [
    "record = []\n",
    "for i in range(0,9000):\n",
    "    record.append([str(data.values[i,j]) for j in range(0,25)])\n",
    "\n",
    "\n"
   ]
  },
  {
   "cell_type": "code",
   "execution_count": 121,
   "id": "f0d46c5a",
   "metadata": {},
   "outputs": [],
   "source": [
    "te = TransactionEncoder()\n",
    "te_ary=te.fit(record).transform(record)\n",
    "df1=pd.DataFrame(te_ary,columns=te.columns_)"
   ]
  },
  {
   "cell_type": "code",
   "execution_count": 128,
   "id": "3d8de726",
   "metadata": {},
   "outputs": [],
   "source": [
    "freq_items = fpgrowth(df1, min_support=0.002, use_colnames=True)\n",
    "\n",
    "%timeit"
   ]
  },
  {
   "cell_type": "code",
   "execution_count": 129,
   "metadata": {},
   "outputs": [
    {
     "data": {
      "text/html": [
       "<div>\n",
       "<style scoped>\n",
       "    .dataframe tbody tr th:only-of-type {\n",
       "        vertical-align: middle;\n",
       "    }\n",
       "\n",
       "    .dataframe tbody tr th {\n",
       "        vertical-align: top;\n",
       "    }\n",
       "\n",
       "    .dataframe thead th {\n",
       "        text-align: right;\n",
       "    }\n",
       "</style>\n",
       "<table border=\"1\" class=\"dataframe\">\n",
       "  <thead>\n",
       "    <tr style=\"text-align: right;\">\n",
       "      <th></th>\n",
       "      <th>antecedents</th>\n",
       "      <th>consequents</th>\n",
       "      <th>antecedent support</th>\n",
       "      <th>consequent support</th>\n",
       "      <th>support</th>\n",
       "      <th>confidence</th>\n",
       "      <th>lift</th>\n",
       "      <th>leverage</th>\n",
       "      <th>conviction</th>\n",
       "    </tr>\n",
       "  </thead>\n",
       "  <tbody>\n",
       "    <tr>\n",
       "      <th>0</th>\n",
       "      <td>(4)</td>\n",
       "      <td>(nan)</td>\n",
       "      <td>0.101778</td>\n",
       "      <td>0.999222</td>\n",
       "      <td>0.101778</td>\n",
       "      <td>1.0</td>\n",
       "      <td>1.000778</td>\n",
       "      <td>0.000079</td>\n",
       "      <td>inf</td>\n",
       "    </tr>\n",
       "    <tr>\n",
       "      <th>1</th>\n",
       "      <td>(4, yogurt)</td>\n",
       "      <td>(nan)</td>\n",
       "      <td>0.012000</td>\n",
       "      <td>0.999222</td>\n",
       "      <td>0.012000</td>\n",
       "      <td>1.0</td>\n",
       "      <td>1.000778</td>\n",
       "      <td>0.000009</td>\n",
       "      <td>inf</td>\n",
       "    </tr>\n",
       "    <tr>\n",
       "      <th>2</th>\n",
       "      <td>(4, whole milk, yogurt)</td>\n",
       "      <td>(nan)</td>\n",
       "      <td>0.002333</td>\n",
       "      <td>0.999222</td>\n",
       "      <td>0.002333</td>\n",
       "      <td>1.0</td>\n",
       "      <td>1.000778</td>\n",
       "      <td>0.000002</td>\n",
       "      <td>inf</td>\n",
       "    </tr>\n",
       "    <tr>\n",
       "      <th>3</th>\n",
       "      <td>(4, other vegetables, yogurt)</td>\n",
       "      <td>(nan)</td>\n",
       "      <td>0.002000</td>\n",
       "      <td>0.999222</td>\n",
       "      <td>0.002000</td>\n",
       "      <td>1.0</td>\n",
       "      <td>1.000778</td>\n",
       "      <td>0.000002</td>\n",
       "      <td>inf</td>\n",
       "    </tr>\n",
       "    <tr>\n",
       "      <th>4</th>\n",
       "      <td>(4, rolls/buns, yogurt)</td>\n",
       "      <td>(nan)</td>\n",
       "      <td>0.002444</td>\n",
       "      <td>0.999222</td>\n",
       "      <td>0.002444</td>\n",
       "      <td>1.0</td>\n",
       "      <td>1.000778</td>\n",
       "      <td>0.000002</td>\n",
       "      <td>inf</td>\n",
       "    </tr>\n",
       "    <tr>\n",
       "      <th>...</th>\n",
       "      <td>...</td>\n",
       "      <td>...</td>\n",
       "      <td>...</td>\n",
       "      <td>...</td>\n",
       "      <td>...</td>\n",
       "      <td>...</td>\n",
       "      <td>...</td>\n",
       "      <td>...</td>\n",
       "      <td>...</td>\n",
       "    </tr>\n",
       "    <tr>\n",
       "      <th>3318</th>\n",
       "      <td>(nuts/prunes)</td>\n",
       "      <td>(nan)</td>\n",
       "      <td>0.003000</td>\n",
       "      <td>0.999222</td>\n",
       "      <td>0.003000</td>\n",
       "      <td>1.0</td>\n",
       "      <td>1.000778</td>\n",
       "      <td>0.000002</td>\n",
       "      <td>inf</td>\n",
       "    </tr>\n",
       "    <tr>\n",
       "      <th>3319</th>\n",
       "      <td>(organic sausage)</td>\n",
       "      <td>(nan)</td>\n",
       "      <td>0.002444</td>\n",
       "      <td>0.999222</td>\n",
       "      <td>0.002444</td>\n",
       "      <td>1.0</td>\n",
       "      <td>1.000778</td>\n",
       "      <td>0.000002</td>\n",
       "      <td>inf</td>\n",
       "    </tr>\n",
       "    <tr>\n",
       "      <th>3320</th>\n",
       "      <td>(pudding powder)</td>\n",
       "      <td>(nan)</td>\n",
       "      <td>0.002333</td>\n",
       "      <td>0.999222</td>\n",
       "      <td>0.002333</td>\n",
       "      <td>1.0</td>\n",
       "      <td>1.000778</td>\n",
       "      <td>0.000002</td>\n",
       "      <td>inf</td>\n",
       "    </tr>\n",
       "    <tr>\n",
       "      <th>3321</th>\n",
       "      <td>(tidbits)</td>\n",
       "      <td>(nan)</td>\n",
       "      <td>0.002000</td>\n",
       "      <td>0.999222</td>\n",
       "      <td>0.002000</td>\n",
       "      <td>1.0</td>\n",
       "      <td>1.000778</td>\n",
       "      <td>0.000002</td>\n",
       "      <td>inf</td>\n",
       "    </tr>\n",
       "    <tr>\n",
       "      <th>3322</th>\n",
       "      <td>(cooking chocolate)</td>\n",
       "      <td>(nan)</td>\n",
       "      <td>0.002444</td>\n",
       "      <td>0.999222</td>\n",
       "      <td>0.002444</td>\n",
       "      <td>1.0</td>\n",
       "      <td>1.000778</td>\n",
       "      <td>0.000002</td>\n",
       "      <td>inf</td>\n",
       "    </tr>\n",
       "  </tbody>\n",
       "</table>\n",
       "<p>3323 rows × 9 columns</p>\n",
       "</div>"
      ],
      "text/plain": [
       "                        antecedents consequents  antecedent support  \\\n",
       "0                               (4)       (nan)            0.101778   \n",
       "1                       (4, yogurt)       (nan)            0.012000   \n",
       "2           (4, whole milk, yogurt)       (nan)            0.002333   \n",
       "3     (4, other vegetables, yogurt)       (nan)            0.002000   \n",
       "4           (4, rolls/buns, yogurt)       (nan)            0.002444   \n",
       "...                             ...         ...                 ...   \n",
       "3318                  (nuts/prunes)       (nan)            0.003000   \n",
       "3319              (organic sausage)       (nan)            0.002444   \n",
       "3320               (pudding powder)       (nan)            0.002333   \n",
       "3321                      (tidbits)       (nan)            0.002000   \n",
       "3322            (cooking chocolate)       (nan)            0.002444   \n",
       "\n",
       "      consequent support   support  confidence      lift  leverage  conviction  \n",
       "0               0.999222  0.101778         1.0  1.000778  0.000079         inf  \n",
       "1               0.999222  0.012000         1.0  1.000778  0.000009         inf  \n",
       "2               0.999222  0.002333         1.0  1.000778  0.000002         inf  \n",
       "3               0.999222  0.002000         1.0  1.000778  0.000002         inf  \n",
       "4               0.999222  0.002444         1.0  1.000778  0.000002         inf  \n",
       "...                  ...       ...         ...       ...       ...         ...  \n",
       "3318            0.999222  0.003000         1.0  1.000778  0.000002         inf  \n",
       "3319            0.999222  0.002444         1.0  1.000778  0.000002         inf  \n",
       "3320            0.999222  0.002333         1.0  1.000778  0.000002         inf  \n",
       "3321            0.999222  0.002000         1.0  1.000778  0.000002         inf  \n",
       "3322            0.999222  0.002444         1.0  1.000778  0.000002         inf  \n",
       "\n",
       "[3323 rows x 9 columns]"
      ]
     },
     "execution_count": 129,
     "metadata": {},
     "output_type": "execute_result"
    }
   ],
   "source": [
    "rules = association_rules(freq_items, metric=\"confidence\", min_threshold=1)\n",
    "rules"
   ]
  },
  {
   "cell_type": "code",
   "execution_count": 119,
   "id": "abf1afac",
   "metadata": {
    "execution": {
     "iopub.execute_input": "2023-01-12T15:58:00.632530Z",
     "iopub.status.busy": "2023-01-12T15:58:00.632066Z",
     "iopub.status.idle": "2023-01-12T15:58:00.646758Z",
     "shell.execute_reply": "2023-01-12T15:58:00.645122Z"
    },
    "papermill": {
     "duration": 0.026552,
     "end_time": "2023-01-12T15:58:00.649505",
     "exception": false,
     "start_time": "2023-01-12T15:58:00.622953",
     "status": "completed"
    },
    "tags": []
   },
   "outputs": [],
   "source": [
    "result=list(rules)"
   ]
  },
  {
   "cell_type": "code",
   "execution_count": 120,
   "metadata": {},
   "outputs": [
    {
     "data": {
      "text/plain": [
       "9"
      ]
     },
     "execution_count": 120,
     "metadata": {},
     "output_type": "execute_result"
    }
   ],
   "source": [
    "len(result)"
   ]
  }
 ],
 "metadata": {
  "kernelspec": {
   "display_name": "Python 3 (ipykernel)",
   "language": "python",
   "name": "python3"
  },
  "language_info": {
   "codemirror_mode": {
    "name": "ipython",
    "version": 3
   },
   "file_extension": ".py",
   "mimetype": "text/x-python",
   "name": "python",
   "nbconvert_exporter": "python",
   "pygments_lexer": "ipython3",
   "version": "3.10.6"
  },
  "papermill": {
   "default_parameters": {},
   "duration": 33.017158,
   "end_time": "2023-01-12T15:58:04.636262",
   "environment_variables": {},
   "exception": null,
   "input_path": "__notebook__.ipynb",
   "output_path": "__notebook__.ipynb",
   "parameters": {},
   "start_time": "2023-01-12T15:57:31.619104",
   "version": "2.3.4"
  }
 },
 "nbformat": 4,
 "nbformat_minor": 5
}
