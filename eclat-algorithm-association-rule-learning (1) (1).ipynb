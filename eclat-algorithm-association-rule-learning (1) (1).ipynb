{
 "cells": [
  {
   "cell_type": "code",
   "execution_count": 89,
   "id": "coral-religious",
   "metadata": {
    "execution": {
     "iopub.execute_input": "2021-07-06T16:35:27.640545Z",
     "iopub.status.busy": "2021-07-06T16:35:27.639743Z",
     "iopub.status.idle": "2021-07-06T16:35:27.644283Z",
     "shell.execute_reply": "2021-07-06T16:35:27.643694Z",
     "shell.execute_reply.started": "2021-07-06T16:29:24.351162Z"
    },
    "papermill": {
     "duration": 0.023533,
     "end_time": "2021-07-06T16:35:27.644434",
     "exception": false,
     "start_time": "2021-07-06T16:35:27.620901",
     "status": "completed"
    },
    "tags": []
   },
   "outputs": [],
   "source": [
    "#importing libraries\n",
    "import numpy as np\n",
    "import matplotlib.pyplot as plt\n",
    "import pandas as pd"
   ]
  },
  {
   "cell_type": "code",
   "execution_count": 90,
   "id": "southeast-percentage",
   "metadata": {
    "execution": {
     "iopub.execute_input": "2021-07-06T16:35:27.679458Z",
     "iopub.status.busy": "2021-07-06T16:35:27.678817Z",
     "iopub.status.idle": "2021-07-06T16:35:28.501831Z",
     "shell.execute_reply": "2021-07-06T16:35:28.501244Z",
     "shell.execute_reply.started": "2021-07-06T16:30:09.484151Z"
    },
    "papermill": {
     "duration": 0.843387,
     "end_time": "2021-07-06T16:35:28.502000",
     "exception": false,
     "start_time": "2021-07-06T16:35:27.658613",
     "status": "completed"
    },
    "tags": []
   },
   "outputs": [],
   "source": [
    "#importing dataset\n",
    "ds = pd.read_csv('groceries - groceries.csv', header = None)\n",
    "transactions = []\n",
    "for i in range(0, 100):\n",
    "  transactions.append([str(ds.values[i,j]) for j in range(0, 20)])"
   ]
  },
  {
   "cell_type": "code",
   "execution_count": 97,
   "id": "interstate-potential",
   "metadata": {
    "execution": {
     "iopub.execute_input": "2021-07-06T16:35:28.536092Z",
     "iopub.status.busy": "2021-07-06T16:35:28.535271Z",
     "iopub.status.idle": "2021-07-06T16:35:28.542720Z",
     "shell.execute_reply": "2021-07-06T16:35:28.542027Z",
     "shell.execute_reply.started": "2021-07-06T16:30:53.809803Z"
    },
    "papermill": {
     "duration": 0.02653,
     "end_time": "2021-07-06T16:35:28.542892",
     "exception": false,
     "start_time": "2021-07-06T16:35:28.516362",
     "status": "completed"
    },
    "tags": []
   },
   "outputs": [
    {
     "data": {
      "text/plain": [
       "0.044410900000002584"
      ]
     },
     "execution_count": 97,
     "metadata": {},
     "output_type": "execute_result"
    }
   ],
   "source": [
    "#training eclat model to the dataset\n",
    "import timeit\n",
    "from apyori import apriori\n",
    "rules = apriori(transactions = transactions, min_support = 2/100, min_confidence = 0.2, min_lift = 3, min_length = 2, max_length = 2)\n",
    "timeit.timeit()\n",
    "\n"
   ]
  },
  {
   "cell_type": "code",
   "execution_count": 92,
   "id": "adjacent-father",
   "metadata": {
    "execution": {
     "iopub.execute_input": "2021-07-06T16:35:28.606987Z",
     "iopub.status.busy": "2021-07-06T16:35:28.606335Z",
     "iopub.status.idle": "2021-07-06T16:35:28.765219Z",
     "shell.execute_reply": "2021-07-06T16:35:28.765899Z",
     "shell.execute_reply.started": "2021-07-06T16:33:36.566014Z"
    },
    "papermill": {
     "duration": 0.18191,
     "end_time": "2021-07-06T16:35:28.766112",
     "exception": false,
     "start_time": "2021-07-06T16:35:28.584202",
     "status": "completed"
    },
    "tags": []
   },
   "outputs": [
    {
     "data": {
      "text/plain": [
       "[RelationRecord(items=frozenset({'10', 'butter'}), support=0.02, ordered_statistics=[OrderedStatistic(items_base=frozenset({'10'}), items_add=frozenset({'butter'}), confidence=0.5, lift=8.333333333333334), OrderedStatistic(items_base=frozenset({'butter'}), items_add=frozenset({'10'}), confidence=0.33333333333333337, lift=8.333333333333334)]),\n",
       " RelationRecord(items=frozenset({'curd', '10'}), support=0.02, ordered_statistics=[OrderedStatistic(items_base=frozenset({'10'}), items_add=frozenset({'curd'}), confidence=0.5, lift=8.333333333333334), OrderedStatistic(items_base=frozenset({'curd'}), items_add=frozenset({'10'}), confidence=0.33333333333333337, lift=8.333333333333334)]),\n",
       " RelationRecord(items=frozenset({'domestic eggs', '10'}), support=0.02, ordered_statistics=[OrderedStatistic(items_base=frozenset({'10'}), items_add=frozenset({'domestic eggs'}), confidence=0.5, lift=12.5), OrderedStatistic(items_base=frozenset({'domestic eggs'}), items_add=frozenset({'10'}), confidence=0.5, lift=12.5)]),\n",
       " RelationRecord(items=frozenset({'fruit/vegetable juice', '10'}), support=0.02, ordered_statistics=[OrderedStatistic(items_base=frozenset({'10'}), items_add=frozenset({'fruit/vegetable juice'}), confidence=0.5, lift=5.555555555555555), OrderedStatistic(items_base=frozenset({'fruit/vegetable juice'}), items_add=frozenset({'10'}), confidence=0.22222222222222224, lift=5.555555555555556)]),\n",
       " RelationRecord(items=frozenset({'margarine', '10'}), support=0.02, ordered_statistics=[OrderedStatistic(items_base=frozenset({'10'}), items_add=frozenset({'margarine'}), confidence=0.5, lift=12.5), OrderedStatistic(items_base=frozenset({'margarine'}), items_add=frozenset({'10'}), confidence=0.5, lift=12.5)]),\n",
       " RelationRecord(items=frozenset({'10', 'oil'}), support=0.02, ordered_statistics=[OrderedStatistic(items_base=frozenset({'10'}), items_add=frozenset({'oil'}), confidence=0.5, lift=10.0), OrderedStatistic(items_base=frozenset({'oil'}), items_add=frozenset({'10'}), confidence=0.39999999999999997, lift=9.999999999999998)]),\n",
       " RelationRecord(items=frozenset({'other vegetables', '10'}), support=0.03, ordered_statistics=[OrderedStatistic(items_base=frozenset({'10'}), items_add=frozenset({'other vegetables'}), confidence=0.75, lift=4.411764705882352)]),\n",
       " RelationRecord(items=frozenset({'10', 'root vegetables'}), support=0.03, ordered_statistics=[OrderedStatistic(items_base=frozenset({'10'}), items_add=frozenset({'root vegetables'}), confidence=0.75, lift=8.333333333333334), OrderedStatistic(items_base=frozenset({'root vegetables'}), items_add=frozenset({'10'}), confidence=0.3333333333333333, lift=8.333333333333332)]),\n",
       " RelationRecord(items=frozenset({'tropical fruit', '10'}), support=0.02, ordered_statistics=[OrderedStatistic(items_base=frozenset({'10'}), items_add=frozenset({'tropical fruit'}), confidence=0.5, lift=4.545454545454546)]),\n",
       " RelationRecord(items=frozenset({'2', 'coffee'}), support=0.03, ordered_statistics=[OrderedStatistic(items_base=frozenset({'2'}), items_add=frozenset({'coffee'}), confidence=0.21428571428571425, lift=3.0612244897959173), OrderedStatistic(items_base=frozenset({'coffee'}), items_add=frozenset({'2'}), confidence=0.4285714285714285, lift=3.0612244897959173)]),\n",
       " RelationRecord(items=frozenset({'2', 'pastry'}), support=0.04, ordered_statistics=[OrderedStatistic(items_base=frozenset({'2'}), items_add=frozenset({'pastry'}), confidence=0.2857142857142857, lift=3.1746031746031744), OrderedStatistic(items_base=frozenset({'pastry'}), items_add=frozenset({'2'}), confidence=0.4444444444444445, lift=3.1746031746031744)]),\n",
       " RelationRecord(items=frozenset({'3', 'beef'}), support=0.02, ordered_statistics=[OrderedStatistic(items_base=frozenset({'beef'}), items_add=frozenset({'3'}), confidence=0.5, lift=3.846153846153846)]),\n",
       " RelationRecord(items=frozenset({'4', 'cream cheese'}), support=0.02, ordered_statistics=[OrderedStatistic(items_base=frozenset({'cream cheese'}), items_add=frozenset({'4'}), confidence=0.5, lift=3.571428571428571)]),\n",
       " RelationRecord(items=frozenset({'sugar', '4'}), support=0.03, ordered_statistics=[OrderedStatistic(items_base=frozenset({'4'}), items_add=frozenset({'sugar'}), confidence=0.21428571428571425, lift=3.0612244897959173), OrderedStatistic(items_base=frozenset({'sugar'}), items_add=frozenset({'4'}), confidence=0.4285714285714285, lift=3.0612244897959173)]),\n",
       " RelationRecord(items=frozenset({'5', 'bottled beer'}), support=0.02, ordered_statistics=[OrderedStatistic(items_base=frozenset({'5'}), items_add=frozenset({'bottled beer'}), confidence=0.22222222222222224, lift=7.407407407407408), OrderedStatistic(items_base=frozenset({'bottled beer'}), items_add=frozenset({'5'}), confidence=0.6666666666666667, lift=7.407407407407408)]),\n",
       " RelationRecord(items=frozenset({'processed cheese', '5'}), support=0.02, ordered_statistics=[OrderedStatistic(items_base=frozenset({'5'}), items_add=frozenset({'processed cheese'}), confidence=0.22222222222222224, lift=11.111111111111112), OrderedStatistic(items_base=frozenset({'processed cheese'}), items_add=frozenset({'5'}), confidence=1.0, lift=11.11111111111111)]),\n",
       " RelationRecord(items=frozenset({'sugar', '5'}), support=0.02, ordered_statistics=[OrderedStatistic(items_base=frozenset({'5'}), items_add=frozenset({'sugar'}), confidence=0.22222222222222224, lift=3.1746031746031744), OrderedStatistic(items_base=frozenset({'sugar'}), items_add=frozenset({'5'}), confidence=0.2857142857142857, lift=3.1746031746031744)]),\n",
       " RelationRecord(items=frozenset({'5', 'tropical fruit'}), support=0.03, ordered_statistics=[OrderedStatistic(items_base=frozenset({'5'}), items_add=frozenset({'tropical fruit'}), confidence=0.3333333333333333, lift=3.0303030303030303), OrderedStatistic(items_base=frozenset({'tropical fruit'}), items_add=frozenset({'5'}), confidence=0.2727272727272727, lift=3.0303030303030303)]),\n",
       " RelationRecord(items=frozenset({'6', 'canned beer'}), support=0.02, ordered_statistics=[OrderedStatistic(items_base=frozenset({'6'}), items_add=frozenset({'canned beer'}), confidence=0.6666666666666667, lift=8.333333333333334), OrderedStatistic(items_base=frozenset({'canned beer'}), items_add=frozenset({'6'}), confidence=0.25, lift=8.333333333333334)]),\n",
       " RelationRecord(items=frozenset({'6', 'rolls/buns'}), support=0.02, ordered_statistics=[OrderedStatistic(items_base=frozenset({'6'}), items_add=frozenset({'rolls/buns'}), confidence=0.6666666666666667, lift=3.174603174603175)]),\n",
       " RelationRecord(items=frozenset({'6', 'shopping bags'}), support=0.02, ordered_statistics=[OrderedStatistic(items_base=frozenset({'6'}), items_add=frozenset({'shopping bags'}), confidence=0.6666666666666667, lift=22.222222222222225), OrderedStatistic(items_base=frozenset({'shopping bags'}), items_add=frozenset({'6'}), confidence=0.6666666666666667, lift=22.222222222222225)]),\n",
       " RelationRecord(items=frozenset({'6', 'soda'}), support=0.02, ordered_statistics=[OrderedStatistic(items_base=frozenset({'6'}), items_add=frozenset({'soda'}), confidence=0.6666666666666667, lift=5.128205128205129)]),\n",
       " RelationRecord(items=frozenset({'7', 'candles'}), support=0.02, ordered_statistics=[OrderedStatistic(items_base=frozenset({'7'}), items_add=frozenset({'candles'}), confidence=0.33333333333333337, lift=11.111111111111112), OrderedStatistic(items_base=frozenset({'candles'}), items_add=frozenset({'7'}), confidence=0.6666666666666667, lift=11.111111111111112)]),\n",
       " RelationRecord(items=frozenset({'7', 'detergent'}), support=0.02, ordered_statistics=[OrderedStatistic(items_base=frozenset({'7'}), items_add=frozenset({'detergent'}), confidence=0.33333333333333337, lift=5.555555555555556), OrderedStatistic(items_base=frozenset({'detergent'}), items_add=frozenset({'7'}), confidence=0.33333333333333337, lift=5.555555555555556)]),\n",
       " RelationRecord(items=frozenset({'7', 'frozen vegetables'}), support=0.02, ordered_statistics=[OrderedStatistic(items_base=frozenset({'7'}), items_add=frozenset({'frozen vegetables'}), confidence=0.33333333333333337, lift=8.333333333333334), OrderedStatistic(items_base=frozenset({'frozen vegetables'}), items_add=frozenset({'7'}), confidence=0.5, lift=8.333333333333334)]),\n",
       " RelationRecord(items=frozenset({'7', 'hygiene articles'}), support=0.02, ordered_statistics=[OrderedStatistic(items_base=frozenset({'7'}), items_add=frozenset({'hygiene articles'}), confidence=0.33333333333333337, lift=16.666666666666668), OrderedStatistic(items_base=frozenset({'hygiene articles'}), items_add=frozenset({'7'}), confidence=1.0, lift=16.666666666666668)]),\n",
       " RelationRecord(items=frozenset({'7', 'napkins'}), support=0.02, ordered_statistics=[OrderedStatistic(items_base=frozenset({'7'}), items_add=frozenset({'napkins'}), confidence=0.33333333333333337, lift=16.666666666666668), OrderedStatistic(items_base=frozenset({'napkins'}), items_add=frozenset({'7'}), confidence=1.0, lift=16.666666666666668)]),\n",
       " RelationRecord(items=frozenset({'7', 'oil'}), support=0.02, ordered_statistics=[OrderedStatistic(items_base=frozenset({'7'}), items_add=frozenset({'oil'}), confidence=0.33333333333333337, lift=6.666666666666667), OrderedStatistic(items_base=frozenset({'oil'}), items_add=frozenset({'7'}), confidence=0.39999999999999997, lift=6.666666666666666)]),\n",
       " RelationRecord(items=frozenset({'8', 'berries'}), support=0.02, ordered_statistics=[OrderedStatistic(items_base=frozenset({'8'}), items_add=frozenset({'berries'}), confidence=0.5, lift=8.333333333333334), OrderedStatistic(items_base=frozenset({'berries'}), items_add=frozenset({'8'}), confidence=0.33333333333333337, lift=8.333333333333334)]),\n",
       " RelationRecord(items=frozenset({'8', 'newspapers'}), support=0.02, ordered_statistics=[OrderedStatistic(items_base=frozenset({'8'}), items_add=frozenset({'newspapers'}), confidence=0.5, lift=5.555555555555555), OrderedStatistic(items_base=frozenset({'newspapers'}), items_add=frozenset({'8'}), confidence=0.22222222222222224, lift=5.555555555555556)]),\n",
       " RelationRecord(items=frozenset({'8', 'soda'}), support=0.02, ordered_statistics=[OrderedStatistic(items_base=frozenset({'8'}), items_add=frozenset({'soda'}), confidence=0.5, lift=3.846153846153846)]),\n",
       " RelationRecord(items=frozenset({'8', 'whole milk'}), support=0.03, ordered_statistics=[OrderedStatistic(items_base=frozenset({'8'}), items_add=frozenset({'whole milk'}), confidence=0.75, lift=3.0)]),\n",
       " RelationRecord(items=frozenset({'9', 'citrus fruit'}), support=0.02, ordered_statistics=[OrderedStatistic(items_base=frozenset({'9'}), items_add=frozenset({'citrus fruit'}), confidence=0.6666666666666667, lift=8.333333333333334), OrderedStatistic(items_base=frozenset({'citrus fruit'}), items_add=frozenset({'9'}), confidence=0.25, lift=8.333333333333334)]),\n",
       " RelationRecord(items=frozenset({'UHT-milk', 'other vegetables'}), support=0.02, ordered_statistics=[OrderedStatistic(items_base=frozenset({'UHT-milk'}), items_add=frozenset({'other vegetables'}), confidence=1.0, lift=5.88235294117647)]),\n",
       " RelationRecord(items=frozenset({'UHT-milk', 'rolls/buns'}), support=0.02, ordered_statistics=[OrderedStatistic(items_base=frozenset({'UHT-milk'}), items_add=frozenset({'rolls/buns'}), confidence=1.0, lift=4.761904761904762)]),\n",
       " RelationRecord(items=frozenset({'abrasive cleaner', 'whole milk'}), support=0.02, ordered_statistics=[OrderedStatistic(items_base=frozenset({'abrasive cleaner'}), items_add=frozenset({'whole milk'}), confidence=1.0, lift=4.0)]),\n",
       " RelationRecord(items=frozenset({'rolls/buns', 'bathroom cleaner'}), support=0.02, ordered_statistics=[OrderedStatistic(items_base=frozenset({'bathroom cleaner'}), items_add=frozenset({'rolls/buns'}), confidence=1.0, lift=4.761904761904762)]),\n",
       " RelationRecord(items=frozenset({'root vegetables', 'bathroom cleaner'}), support=0.02, ordered_statistics=[OrderedStatistic(items_base=frozenset({'bathroom cleaner'}), items_add=frozenset({'root vegetables'}), confidence=1.0, lift=11.11111111111111), OrderedStatistic(items_base=frozenset({'root vegetables'}), items_add=frozenset({'bathroom cleaner'}), confidence=0.22222222222222224, lift=11.111111111111112)]),\n",
       " RelationRecord(items=frozenset({'berries', 'chocolate'}), support=0.02, ordered_statistics=[OrderedStatistic(items_base=frozenset({'berries'}), items_add=frozenset({'chocolate'}), confidence=0.33333333333333337, lift=5.555555555555556), OrderedStatistic(items_base=frozenset({'chocolate'}), items_add=frozenset({'berries'}), confidence=0.33333333333333337, lift=5.555555555555556)]),\n",
       " RelationRecord(items=frozenset({'pork', 'berries'}), support=0.02, ordered_statistics=[OrderedStatistic(items_base=frozenset({'berries'}), items_add=frozenset({'pork'}), confidence=0.33333333333333337, lift=11.111111111111112), OrderedStatistic(items_base=frozenset({'pork'}), items_add=frozenset({'berries'}), confidence=0.6666666666666667, lift=11.111111111111112)]),\n",
       " RelationRecord(items=frozenset({'whipped/sour cream', 'berries'}), support=0.02, ordered_statistics=[OrderedStatistic(items_base=frozenset({'berries'}), items_add=frozenset({'whipped/sour cream'}), confidence=0.33333333333333337, lift=6.666666666666667), OrderedStatistic(items_base=frozenset({'whipped/sour cream'}), items_add=frozenset({'berries'}), confidence=0.39999999999999997, lift=6.666666666666666)]),\n",
       " RelationRecord(items=frozenset({'bottled water', 'bottled beer'}), support=0.02, ordered_statistics=[OrderedStatistic(items_base=frozenset({'bottled beer'}), items_add=frozenset({'bottled water'}), confidence=0.6666666666666667, lift=5.555555555555556)]),\n",
       " RelationRecord(items=frozenset({'flour', 'bottled water'}), support=0.02, ordered_statistics=[OrderedStatistic(items_base=frozenset({'flour'}), items_add=frozenset({'bottled water'}), confidence=0.6666666666666667, lift=5.555555555555556)]),\n",
       " RelationRecord(items=frozenset({'bottled water', 'hygiene articles'}), support=0.02, ordered_statistics=[OrderedStatistic(items_base=frozenset({'hygiene articles'}), items_add=frozenset({'bottled water'}), confidence=1.0, lift=8.333333333333334)]),\n",
       " RelationRecord(items=frozenset({'bottled water', 'napkins'}), support=0.02, ordered_statistics=[OrderedStatistic(items_base=frozenset({'napkins'}), items_add=frozenset({'bottled water'}), confidence=1.0, lift=8.333333333333334)]),\n",
       " RelationRecord(items=frozenset({'canned beer', 'brown bread'}), support=0.03, ordered_statistics=[OrderedStatistic(items_base=frozenset({'brown bread'}), items_add=frozenset({'canned beer'}), confidence=0.4285714285714285, lift=5.357142857142856), OrderedStatistic(items_base=frozenset({'canned beer'}), items_add=frozenset({'brown bread'}), confidence=0.375, lift=5.357142857142857)]),\n",
       " RelationRecord(items=frozenset({'brown bread', 'domestic eggs'}), support=0.02, ordered_statistics=[OrderedStatistic(items_base=frozenset({'brown bread'}), items_add=frozenset({'domestic eggs'}), confidence=0.2857142857142857, lift=7.142857142857142), OrderedStatistic(items_base=frozenset({'domestic eggs'}), items_add=frozenset({'brown bread'}), confidence=0.5, lift=7.142857142857142)]),\n",
       " RelationRecord(items=frozenset({'brown bread', 'fruit/vegetable juice'}), support=0.03, ordered_statistics=[OrderedStatistic(items_base=frozenset({'brown bread'}), items_add=frozenset({'fruit/vegetable juice'}), confidence=0.4285714285714285, lift=4.761904761904761), OrderedStatistic(items_base=frozenset({'fruit/vegetable juice'}), items_add=frozenset({'brown bread'}), confidence=0.3333333333333333, lift=4.761904761904761)]),\n",
       " RelationRecord(items=frozenset({'brown bread', 'shopping bags'}), support=0.02, ordered_statistics=[OrderedStatistic(items_base=frozenset({'brown bread'}), items_add=frozenset({'shopping bags'}), confidence=0.2857142857142857, lift=9.523809523809524), OrderedStatistic(items_base=frozenset({'shopping bags'}), items_add=frozenset({'brown bread'}), confidence=0.6666666666666667, lift=9.523809523809524)]),\n",
       " RelationRecord(items=frozenset({'brown bread', 'sugar'}), support=0.02, ordered_statistics=[OrderedStatistic(items_base=frozenset({'brown bread'}), items_add=frozenset({'sugar'}), confidence=0.2857142857142857, lift=4.081632653061224), OrderedStatistic(items_base=frozenset({'sugar'}), items_add=frozenset({'brown bread'}), confidence=0.2857142857142857, lift=4.081632653061224)]),\n",
       " RelationRecord(items=frozenset({'brown bread', 'tropical fruit'}), support=0.03, ordered_statistics=[OrderedStatistic(items_base=frozenset({'brown bread'}), items_add=frozenset({'tropical fruit'}), confidence=0.4285714285714285, lift=3.896103896103895), OrderedStatistic(items_base=frozenset({'tropical fruit'}), items_add=frozenset({'brown bread'}), confidence=0.2727272727272727, lift=3.8961038961038956)]),\n",
       " RelationRecord(items=frozenset({'brown bread', 'waffles'}), support=0.02, ordered_statistics=[OrderedStatistic(items_base=frozenset({'brown bread'}), items_add=frozenset({'waffles'}), confidence=0.2857142857142857, lift=9.523809523809524), OrderedStatistic(items_base=frozenset({'waffles'}), items_add=frozenset({'brown bread'}), confidence=0.6666666666666667, lift=9.523809523809524)]),\n",
       " RelationRecord(items=frozenset({'citrus fruit', 'butter'}), support=0.02, ordered_statistics=[OrderedStatistic(items_base=frozenset({'butter'}), items_add=frozenset({'citrus fruit'}), confidence=0.33333333333333337, lift=4.166666666666667), OrderedStatistic(items_base=frozenset({'citrus fruit'}), items_add=frozenset({'butter'}), confidence=0.25, lift=4.166666666666667)]),\n",
       " RelationRecord(items=frozenset({'curd', 'butter'}), support=0.02, ordered_statistics=[OrderedStatistic(items_base=frozenset({'butter'}), items_add=frozenset({'curd'}), confidence=0.33333333333333337, lift=5.555555555555556), OrderedStatistic(items_base=frozenset({'curd'}), items_add=frozenset({'butter'}), confidence=0.33333333333333337, lift=5.555555555555556)]),\n",
       " RelationRecord(items=frozenset({'root vegetables', 'butter'}), support=0.02, ordered_statistics=[OrderedStatistic(items_base=frozenset({'butter'}), items_add=frozenset({'root vegetables'}), confidence=0.33333333333333337, lift=3.703703703703704), OrderedStatistic(items_base=frozenset({'root vegetables'}), items_add=frozenset({'butter'}), confidence=0.22222222222222224, lift=3.703703703703704)]),\n",
       " RelationRecord(items=frozenset({'tropical fruit', 'butter'}), support=0.02, ordered_statistics=[OrderedStatistic(items_base=frozenset({'butter'}), items_add=frozenset({'tropical fruit'}), confidence=0.33333333333333337, lift=3.0303030303030307)]),\n",
       " RelationRecord(items=frozenset({'butter milk', 'citrus fruit'}), support=0.02, ordered_statistics=[OrderedStatistic(items_base=frozenset({'butter milk'}), items_add=frozenset({'citrus fruit'}), confidence=0.5, lift=6.25), OrderedStatistic(items_base=frozenset({'citrus fruit'}), items_add=frozenset({'butter milk'}), confidence=0.25, lift=6.25)]),\n",
       " RelationRecord(items=frozenset({'butter milk', 'cream cheese'}), support=0.02, ordered_statistics=[OrderedStatistic(items_base=frozenset({'butter milk'}), items_add=frozenset({'cream cheese'}), confidence=0.5, lift=12.5), OrderedStatistic(items_base=frozenset({'cream cheese'}), items_add=frozenset({'butter milk'}), confidence=0.5, lift=12.5)]),\n",
       " RelationRecord(items=frozenset({'butter milk', 'pastry'}), support=0.02, ordered_statistics=[OrderedStatistic(items_base=frozenset({'butter milk'}), items_add=frozenset({'pastry'}), confidence=0.5, lift=5.555555555555555), OrderedStatistic(items_base=frozenset({'pastry'}), items_add=frozenset({'butter milk'}), confidence=0.22222222222222224, lift=5.555555555555556)]),\n",
       " RelationRecord(items=frozenset({'yogurt', 'butter milk'}), support=0.02, ordered_statistics=[OrderedStatistic(items_base=frozenset({'butter milk'}), items_add=frozenset({'yogurt'}), confidence=0.5, lift=3.3333333333333335)]),\n",
       " RelationRecord(items=frozenset({'root vegetables', 'candy'}), support=0.02, ordered_statistics=[OrderedStatistic(items_base=frozenset({'candy'}), items_add=frozenset({'root vegetables'}), confidence=1.0, lift=11.11111111111111), OrderedStatistic(items_base=frozenset({'root vegetables'}), items_add=frozenset({'candy'}), confidence=0.22222222222222224, lift=11.111111111111112)]),\n",
       " RelationRecord(items=frozenset({'tropical fruit', 'candy'}), support=0.02, ordered_statistics=[OrderedStatistic(items_base=frozenset({'candy'}), items_add=frozenset({'tropical fruit'}), confidence=1.0, lift=9.090909090909092)]),\n",
       " RelationRecord(items=frozenset({'waffles', 'candy'}), support=0.02, ordered_statistics=[OrderedStatistic(items_base=frozenset({'candy'}), items_add=frozenset({'waffles'}), confidence=1.0, lift=33.333333333333336), OrderedStatistic(items_base=frozenset({'waffles'}), items_add=frozenset({'candy'}), confidence=0.6666666666666667, lift=33.333333333333336)]),\n",
       " RelationRecord(items=frozenset({'canned beer', 'sausage'}), support=0.02, ordered_statistics=[OrderedStatistic(items_base=frozenset({'canned beer'}), items_add=frozenset({'sausage'}), confidence=0.25, lift=3.125), OrderedStatistic(items_base=frozenset({'sausage'}), items_add=frozenset({'canned beer'}), confidence=0.25, lift=3.125)]),\n",
       " RelationRecord(items=frozenset({'canned beer', 'shopping bags'}), support=0.03, ordered_statistics=[OrderedStatistic(items_base=frozenset({'canned beer'}), items_add=frozenset({'shopping bags'}), confidence=0.375, lift=12.5), OrderedStatistic(items_base=frozenset({'shopping bags'}), items_add=frozenset({'canned beer'}), confidence=1.0, lift=12.5)]),\n",
       " RelationRecord(items=frozenset({'rolls/buns', 'cat food'}), support=0.02, ordered_statistics=[OrderedStatistic(items_base=frozenset({'cat food'}), items_add=frozenset({'rolls/buns'}), confidence=1.0, lift=4.761904761904762)]),\n",
       " RelationRecord(items=frozenset({'cereals', 'whole milk'}), support=0.02, ordered_statistics=[OrderedStatistic(items_base=frozenset({'cereals'}), items_add=frozenset({'whole milk'}), confidence=1.0, lift=4.0)]),\n",
       " RelationRecord(items=frozenset({'chicken', 'tropical fruit'}), support=0.02, ordered_statistics=[OrderedStatistic(items_base=frozenset({'chicken'}), items_add=frozenset({'tropical fruit'}), confidence=1.0, lift=9.090909090909092)]),\n",
       " RelationRecord(items=frozenset({'tropical fruit', 'chocolate'}), support=0.02, ordered_statistics=[OrderedStatistic(items_base=frozenset({'chocolate'}), items_add=frozenset({'tropical fruit'}), confidence=0.33333333333333337, lift=3.0303030303030307)]),\n",
       " RelationRecord(items=frozenset({'curd', 'citrus fruit'}), support=0.02, ordered_statistics=[OrderedStatistic(items_base=frozenset({'citrus fruit'}), items_add=frozenset({'curd'}), confidence=0.25, lift=4.166666666666667), OrderedStatistic(items_base=frozenset({'curd'}), items_add=frozenset({'citrus fruit'}), confidence=0.33333333333333337, lift=4.166666666666667)]),\n",
       " RelationRecord(items=frozenset({'hamburger meat', 'citrus fruit'}), support=0.02, ordered_statistics=[OrderedStatistic(items_base=frozenset({'citrus fruit'}), items_add=frozenset({'hamburger meat'}), confidence=0.25, lift=8.333333333333334), OrderedStatistic(items_base=frozenset({'hamburger meat'}), items_add=frozenset({'citrus fruit'}), confidence=0.6666666666666667, lift=8.333333333333334)]),\n",
       " RelationRecord(items=frozenset({'citrus fruit', 'oil'}), support=0.02, ordered_statistics=[OrderedStatistic(items_base=frozenset({'citrus fruit'}), items_add=frozenset({'oil'}), confidence=0.25, lift=5.0), OrderedStatistic(items_base=frozenset({'oil'}), items_add=frozenset({'citrus fruit'}), confidence=0.39999999999999997, lift=4.999999999999999)]),\n",
       " RelationRecord(items=frozenset({'cream cheese', 'newspapers'}), support=0.02, ordered_statistics=[OrderedStatistic(items_base=frozenset({'cream cheese'}), items_add=frozenset({'newspapers'}), confidence=0.5, lift=5.555555555555555), OrderedStatistic(items_base=frozenset({'newspapers'}), items_add=frozenset({'cream cheese'}), confidence=0.22222222222222224, lift=5.555555555555556)]),\n",
       " RelationRecord(items=frozenset({'yogurt', 'cream cheese'}), support=0.03, ordered_statistics=[OrderedStatistic(items_base=frozenset({'cream cheese'}), items_add=frozenset({'yogurt'}), confidence=0.75, lift=5.0), OrderedStatistic(items_base=frozenset({'yogurt'}), items_add=frozenset({'cream cheese'}), confidence=0.2, lift=5.0)]),\n",
       " RelationRecord(items=frozenset({'pastry', 'curd'}), support=0.02, ordered_statistics=[OrderedStatistic(items_base=frozenset({'curd'}), items_add=frozenset({'pastry'}), confidence=0.33333333333333337, lift=3.703703703703704), OrderedStatistic(items_base=frozenset({'pastry'}), items_add=frozenset({'curd'}), confidence=0.22222222222222224, lift=3.703703703703704)]),\n",
       " RelationRecord(items=frozenset({'tropical fruit', 'curd'}), support=0.02, ordered_statistics=[OrderedStatistic(items_base=frozenset({'curd'}), items_add=frozenset({'tropical fruit'}), confidence=0.33333333333333337, lift=3.0303030303030307)]),\n",
       " RelationRecord(items=frozenset({'detergent', 'root vegetables'}), support=0.02, ordered_statistics=[OrderedStatistic(items_base=frozenset({'detergent'}), items_add=frozenset({'root vegetables'}), confidence=0.33333333333333337, lift=3.703703703703704), OrderedStatistic(items_base=frozenset({'root vegetables'}), items_add=frozenset({'detergent'}), confidence=0.22222222222222224, lift=3.703703703703704)]),\n",
       " RelationRecord(items=frozenset({'detergent', 'tropical fruit'}), support=0.02, ordered_statistics=[OrderedStatistic(items_base=frozenset({'detergent'}), items_add=frozenset({'tropical fruit'}), confidence=0.33333333333333337, lift=3.0303030303030307)]),\n",
       " RelationRecord(items=frozenset({'domestic eggs', 'fruit/vegetable juice'}), support=0.02, ordered_statistics=[OrderedStatistic(items_base=frozenset({'domestic eggs'}), items_add=frozenset({'fruit/vegetable juice'}), confidence=0.5, lift=5.555555555555555), OrderedStatistic(items_base=frozenset({'fruit/vegetable juice'}), items_add=frozenset({'domestic eggs'}), confidence=0.22222222222222224, lift=5.555555555555556)]),\n",
       " RelationRecord(items=frozenset({'margarine', 'domestic eggs'}), support=0.02, ordered_statistics=[OrderedStatistic(items_base=frozenset({'domestic eggs'}), items_add=frozenset({'margarine'}), confidence=0.5, lift=12.5), OrderedStatistic(items_base=frozenset({'margarine'}), items_add=frozenset({'domestic eggs'}), confidence=0.5, lift=12.5)]),\n",
       " RelationRecord(items=frozenset({'domestic eggs', 'oil'}), support=0.02, ordered_statistics=[OrderedStatistic(items_base=frozenset({'domestic eggs'}), items_add=frozenset({'oil'}), confidence=0.5, lift=10.0), OrderedStatistic(items_base=frozenset({'oil'}), items_add=frozenset({'domestic eggs'}), confidence=0.39999999999999997, lift=9.999999999999998)]),\n",
       " RelationRecord(items=frozenset({'domestic eggs', 'root vegetables'}), support=0.02, ordered_statistics=[OrderedStatistic(items_base=frozenset({'domestic eggs'}), items_add=frozenset({'root vegetables'}), confidence=0.5, lift=5.555555555555555), OrderedStatistic(items_base=frozenset({'root vegetables'}), items_add=frozenset({'domestic eggs'}), confidence=0.22222222222222224, lift=5.555555555555556)]),\n",
       " RelationRecord(items=frozenset({'domestic eggs', 'tropical fruit'}), support=0.02, ordered_statistics=[OrderedStatistic(items_base=frozenset({'domestic eggs'}), items_add=frozenset({'tropical fruit'}), confidence=0.5, lift=4.545454545454546)]),\n",
       " RelationRecord(items=frozenset({'domestic eggs', 'whole milk'}), support=0.03, ordered_statistics=[OrderedStatistic(items_base=frozenset({'domestic eggs'}), items_add=frozenset({'whole milk'}), confidence=0.75, lift=3.0)]),\n",
       " RelationRecord(items=frozenset({'flour', 'tropical fruit'}), support=0.02, ordered_statistics=[OrderedStatistic(items_base=frozenset({'flour'}), items_add=frozenset({'tropical fruit'}), confidence=0.6666666666666667, lift=6.060606060606061)]),\n",
       " RelationRecord(items=frozenset({'frankfurter', 'rolls/buns'}), support=0.02, ordered_statistics=[OrderedStatistic(items_base=frozenset({'frankfurter'}), items_add=frozenset({'rolls/buns'}), confidence=0.6666666666666667, lift=3.174603174603175)]),\n",
       " RelationRecord(items=frozenset({'frozen vegetables', 'oil'}), support=0.02, ordered_statistics=[OrderedStatistic(items_base=frozenset({'frozen vegetables'}), items_add=frozenset({'oil'}), confidence=0.5, lift=10.0), OrderedStatistic(items_base=frozenset({'oil'}), items_add=frozenset({'frozen vegetables'}), confidence=0.39999999999999997, lift=9.999999999999998)]),\n",
       " RelationRecord(items=frozenset({'frozen vegetables', 'root vegetables'}), support=0.02, ordered_statistics=[OrderedStatistic(items_base=frozenset({'frozen vegetables'}), items_add=frozenset({'root vegetables'}), confidence=0.5, lift=5.555555555555555), OrderedStatistic(items_base=frozenset({'root vegetables'}), items_add=frozenset({'frozen vegetables'}), confidence=0.22222222222222224, lift=5.555555555555556)]),\n",
       " RelationRecord(items=frozenset({'margarine', 'fruit/vegetable juice'}), support=0.02, ordered_statistics=[OrderedStatistic(items_base=frozenset({'fruit/vegetable juice'}), items_add=frozenset({'margarine'}), confidence=0.22222222222222224, lift=5.555555555555556), OrderedStatistic(items_base=frozenset({'margarine'}), items_add=frozenset({'fruit/vegetable juice'}), confidence=0.5, lift=5.555555555555555)]),\n",
       " RelationRecord(items=frozenset({'shopping bags', 'fruit/vegetable juice'}), support=0.02, ordered_statistics=[OrderedStatistic(items_base=frozenset({'fruit/vegetable juice'}), items_add=frozenset({'shopping bags'}), confidence=0.22222222222222224, lift=7.407407407407408), OrderedStatistic(items_base=frozenset({'shopping bags'}), items_add=frozenset({'fruit/vegetable juice'}), confidence=0.6666666666666667, lift=7.407407407407408)]),\n",
       " RelationRecord(items=frozenset({'hamburger meat', 'other vegetables'}), support=0.02, ordered_statistics=[OrderedStatistic(items_base=frozenset({'hamburger meat'}), items_add=frozenset({'other vegetables'}), confidence=0.6666666666666667, lift=3.9215686274509807)]),\n",
       " RelationRecord(items=frozenset({'hard cheese', 'root vegetables'}), support=0.02, ordered_statistics=[OrderedStatistic(items_base=frozenset({'hard cheese'}), items_add=frozenset({'root vegetables'}), confidence=1.0, lift=11.11111111111111), OrderedStatistic(items_base=frozenset({'root vegetables'}), items_add=frozenset({'hard cheese'}), confidence=0.22222222222222224, lift=11.111111111111112)]),\n",
       " RelationRecord(items=frozenset({'napkins', 'hygiene articles'}), support=0.02, ordered_statistics=[OrderedStatistic(items_base=frozenset({'hygiene articles'}), items_add=frozenset({'napkins'}), confidence=1.0, lift=50.0), OrderedStatistic(items_base=frozenset({'napkins'}), items_add=frozenset({'hygiene articles'}), confidence=1.0, lift=50.0)]),\n",
       " RelationRecord(items=frozenset({'rolls/buns', 'hygiene articles'}), support=0.02, ordered_statistics=[OrderedStatistic(items_base=frozenset({'hygiene articles'}), items_add=frozenset({'rolls/buns'}), confidence=1.0, lift=4.761904761904762)]),\n",
       " RelationRecord(items=frozenset({'long life bakery product', 'other vegetables'}), support=0.02, ordered_statistics=[OrderedStatistic(items_base=frozenset({'long life bakery product'}), items_add=frozenset({'other vegetables'}), confidence=1.0, lift=5.88235294117647)]),\n",
       " RelationRecord(items=frozenset({'semi-finished bread', 'margarine'}), support=0.02, ordered_statistics=[OrderedStatistic(items_base=frozenset({'margarine'}), items_add=frozenset({'semi-finished bread'}), confidence=0.5, lift=25.0), OrderedStatistic(items_base=frozenset({'semi-finished bread'}), items_add=frozenset({'margarine'}), confidence=1.0, lift=25.0)]),\n",
       " RelationRecord(items=frozenset({'napkins', 'rolls/buns'}), support=0.02, ordered_statistics=[OrderedStatistic(items_base=frozenset({'napkins'}), items_add=frozenset({'rolls/buns'}), confidence=1.0, lift=4.761904761904762)]),\n",
       " RelationRecord(items=frozenset({'root vegetables', 'oil'}), support=0.02, ordered_statistics=[OrderedStatistic(items_base=frozenset({'oil'}), items_add=frozenset({'root vegetables'}), confidence=0.39999999999999997, lift=4.444444444444445), OrderedStatistic(items_base=frozenset({'root vegetables'}), items_add=frozenset({'oil'}), confidence=0.22222222222222224, lift=4.444444444444445)]),\n",
       " RelationRecord(items=frozenset({'onions', 'root vegetables'}), support=0.02, ordered_statistics=[OrderedStatistic(items_base=frozenset({'onions'}), items_add=frozenset({'root vegetables'}), confidence=0.6666666666666667, lift=7.407407407407408), OrderedStatistic(items_base=frozenset({'root vegetables'}), items_add=frozenset({'onions'}), confidence=0.22222222222222224, lift=7.407407407407408)]),\n",
       " RelationRecord(items=frozenset({'pork', 'other vegetables'}), support=0.02, ordered_statistics=[OrderedStatistic(items_base=frozenset({'pork'}), items_add=frozenset({'other vegetables'}), confidence=0.6666666666666667, lift=3.9215686274509807)]),\n",
       " RelationRecord(items=frozenset({'other vegetables', 'root vegetables'}), support=0.05, ordered_statistics=[OrderedStatistic(items_base=frozenset({'other vegetables'}), items_add=frozenset({'root vegetables'}), confidence=0.29411764705882354, lift=3.2679738562091507), OrderedStatistic(items_base=frozenset({'root vegetables'}), items_add=frozenset({'other vegetables'}), confidence=0.5555555555555556, lift=3.2679738562091503)]),\n",
       " RelationRecord(items=frozenset({'salty snack', 'other vegetables'}), support=0.02, ordered_statistics=[OrderedStatistic(items_base=frozenset({'salty snack'}), items_add=frozenset({'other vegetables'}), confidence=0.6666666666666667, lift=3.9215686274509807)]),\n",
       " RelationRecord(items=frozenset({'whipped/sour cream', 'other vegetables'}), support=0.03, ordered_statistics=[OrderedStatistic(items_base=frozenset({'whipped/sour cream'}), items_add=frozenset({'other vegetables'}), confidence=0.6, lift=3.529411764705882)]),\n",
       " RelationRecord(items=frozenset({'sugar', 'pastry'}), support=0.02, ordered_statistics=[OrderedStatistic(items_base=frozenset({'pastry'}), items_add=frozenset({'sugar'}), confidence=0.22222222222222224, lift=3.1746031746031744), OrderedStatistic(items_base=frozenset({'sugar'}), items_add=frozenset({'pastry'}), confidence=0.2857142857142857, lift=3.1746031746031744)]),\n",
       " RelationRecord(items=frozenset({'whole milk', 'pickled vegetables'}), support=0.02, ordered_statistics=[OrderedStatistic(items_base=frozenset({'pickled vegetables'}), items_add=frozenset({'whole milk'}), confidence=1.0, lift=4.0)]),\n",
       " RelationRecord(items=frozenset({'pork', 'whipped/sour cream'}), support=0.03, ordered_statistics=[OrderedStatistic(items_base=frozenset({'pork'}), items_add=frozenset({'whipped/sour cream'}), confidence=1.0, lift=20.0), OrderedStatistic(items_base=frozenset({'whipped/sour cream'}), items_add=frozenset({'pork'}), confidence=0.6, lift=20.0)]),\n",
       " RelationRecord(items=frozenset({'shopping bags', 'rolls/buns'}), support=0.02, ordered_statistics=[OrderedStatistic(items_base=frozenset({'shopping bags'}), items_add=frozenset({'rolls/buns'}), confidence=0.6666666666666667, lift=3.174603174603175)]),\n",
       " RelationRecord(items=frozenset({'waffles', 'rolls/buns'}), support=0.02, ordered_statistics=[OrderedStatistic(items_base=frozenset({'waffles'}), items_add=frozenset({'rolls/buns'}), confidence=0.6666666666666667, lift=3.174603174603175)]),\n",
       " RelationRecord(items=frozenset({'sugar', 'root vegetables'}), support=0.02, ordered_statistics=[OrderedStatistic(items_base=frozenset({'root vegetables'}), items_add=frozenset({'sugar'}), confidence=0.22222222222222224, lift=3.1746031746031744), OrderedStatistic(items_base=frozenset({'sugar'}), items_add=frozenset({'root vegetables'}), confidence=0.2857142857142857, lift=3.1746031746031744)]),\n",
       " RelationRecord(items=frozenset({'tropical fruit', 'root vegetables'}), support=0.03, ordered_statistics=[OrderedStatistic(items_base=frozenset({'root vegetables'}), items_add=frozenset({'tropical fruit'}), confidence=0.3333333333333333, lift=3.0303030303030303), OrderedStatistic(items_base=frozenset({'tropical fruit'}), items_add=frozenset({'root vegetables'}), confidence=0.2727272727272727, lift=3.0303030303030303)]),\n",
       " RelationRecord(items=frozenset({'waffles', 'root vegetables'}), support=0.02, ordered_statistics=[OrderedStatistic(items_base=frozenset({'root vegetables'}), items_add=frozenset({'waffles'}), confidence=0.22222222222222224, lift=7.407407407407408), OrderedStatistic(items_base=frozenset({'waffles'}), items_add=frozenset({'root vegetables'}), confidence=0.6666666666666667, lift=7.407407407407408)]),\n",
       " RelationRecord(items=frozenset({'shopping bags', 'sausage'}), support=0.02, ordered_statistics=[OrderedStatistic(items_base=frozenset({'sausage'}), items_add=frozenset({'shopping bags'}), confidence=0.25, lift=8.333333333333334), OrderedStatistic(items_base=frozenset({'shopping bags'}), items_add=frozenset({'sausage'}), confidence=0.6666666666666667, lift=8.333333333333334)]),\n",
       " RelationRecord(items=frozenset({'shopping bags', 'soda'}), support=0.02, ordered_statistics=[OrderedStatistic(items_base=frozenset({'shopping bags'}), items_add=frozenset({'soda'}), confidence=0.6666666666666667, lift=5.128205128205129)]),\n",
       " RelationRecord(items=frozenset({'specialty chocolate', 'whole milk'}), support=0.02, ordered_statistics=[OrderedStatistic(items_base=frozenset({'specialty chocolate'}), items_add=frozenset({'whole milk'}), confidence=1.0, lift=4.0)]),\n",
       " RelationRecord(items=frozenset({'waffles', 'tropical fruit'}), support=0.02, ordered_statistics=[OrderedStatistic(items_base=frozenset({'waffles'}), items_add=frozenset({'tropical fruit'}), confidence=0.6666666666666667, lift=6.060606060606061)])]"
      ]
     },
     "execution_count": 92,
     "metadata": {},
     "output_type": "execute_result"
    }
   ],
   "source": [
    "#Displaying the first results coming directly from the output of the apriori function\n",
    "results = list(rules)\n",
    "results"
   ]
  },
  {
   "cell_type": "code",
   "execution_count": null,
   "id": "6124eb86",
   "metadata": {},
   "outputs": [],
   "source": []
  },
  {
   "cell_type": "code",
   "execution_count": 93,
   "id": "separate-marine",
   "metadata": {
    "execution": {
     "iopub.execute_input": "2021-07-06T16:35:28.806502Z",
     "iopub.status.busy": "2021-07-06T16:35:28.805665Z",
     "iopub.status.idle": "2021-07-06T16:35:28.812134Z",
     "shell.execute_reply": "2021-07-06T16:35:28.812690Z",
     "shell.execute_reply.started": "2021-07-06T16:34:06.009757Z"
    },
    "papermill": {
     "duration": 0.027691,
     "end_time": "2021-07-06T16:35:28.812875",
     "exception": false,
     "start_time": "2021-07-06T16:35:28.785184",
     "status": "completed"
    },
    "tags": []
   },
   "outputs": [],
   "source": [
    "#Putting the results well organised into a Pandas DataFrame\n",
    "def inspect(results):\n",
    "    lhs         = [tuple(result[2][0][0])[0] for result in results]\n",
    "    rhs         = [tuple(result[2][0][1])[0] for result in results]\n",
    "    supports    = [result[1] for result in results]\n",
    "    return list(zip(lhs, rhs, supports))\n",
    "resultsinDataFrame = pd.DataFrame(inspect(results), columns = ['Product 1', 'Product 2', 'Support'])"
   ]
  },
  {
   "cell_type": "code",
   "execution_count": 94,
   "id": "judicial-costume",
   "metadata": {
    "execution": {
     "iopub.execute_input": "2021-07-06T16:35:28.846159Z",
     "iopub.status.busy": "2021-07-06T16:35:28.844927Z",
     "iopub.status.idle": "2021-07-06T16:35:28.876418Z",
     "shell.execute_reply": "2021-07-06T16:35:28.875620Z",
     "shell.execute_reply.started": "2021-07-06T16:34:31.491212Z"
    },
    "papermill": {
     "duration": 0.048695,
     "end_time": "2021-07-06T16:35:28.876586",
     "exception": false,
     "start_time": "2021-07-06T16:35:28.827891",
     "status": "completed"
    },
    "tags": []
   },
   "outputs": [
    {
     "data": {
      "text/plain": [
       "<bound method NDFrame.describe of                Product 1              Product 2  Support\n",
       "0                     10                 butter     0.02\n",
       "1                     10                   curd     0.02\n",
       "2                     10          domestic eggs     0.02\n",
       "3                     10  fruit/vegetable juice     0.02\n",
       "4                     10              margarine     0.02\n",
       "..                   ...                    ...      ...\n",
       "110      root vegetables                waffles     0.02\n",
       "111              sausage          shopping bags     0.02\n",
       "112        shopping bags                   soda     0.02\n",
       "113  specialty chocolate             whole milk     0.02\n",
       "114              waffles         tropical fruit     0.02\n",
       "\n",
       "[115 rows x 3 columns]>"
      ]
     },
     "execution_count": 94,
     "metadata": {},
     "output_type": "execute_result"
    }
   ],
   "source": [
    "#Displaying the results sorted by descending supports\n",
    "resultsinDataFrame.nlargest(n = 1000, columns = 'Support')\n",
    "resultsinDataFrame.describe "
   ]
  },
  {
   "cell_type": "code",
   "execution_count": null,
   "id": "a90c0615",
   "metadata": {},
   "outputs": [],
   "source": []
  },
  {
   "cell_type": "code",
   "execution_count": null,
   "id": "a3f97b92",
   "metadata": {},
   "outputs": [],
   "source": []
  }
 ],
 "metadata": {
  "kernelspec": {
   "display_name": "Python 3 (ipykernel)",
   "language": "python",
   "name": "python3"
  },
  "language_info": {
   "codemirror_mode": {
    "name": "ipython",
    "version": 3
   },
   "file_extension": ".py",
   "mimetype": "text/x-python",
   "name": "python",
   "nbconvert_exporter": "python",
   "pygments_lexer": "ipython3",
   "version": "3.10.6"
  },
  "papermill": {
   "default_parameters": {},
   "duration": 17.830029,
   "end_time": "2021-07-06T16:35:29.504348",
   "environment_variables": {},
   "exception": null,
   "input_path": "__notebook__.ipynb",
   "output_path": "__notebook__.ipynb",
   "parameters": {},
   "start_time": "2021-07-06T16:35:11.674319",
   "version": "2.3.2"
  }
 },
 "nbformat": 4,
 "nbformat_minor": 5
}
