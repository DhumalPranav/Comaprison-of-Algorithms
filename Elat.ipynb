{
 "cells": [
  {
   "cell_type": "code",
   "execution_count": 272,
   "id": "e3bc2de4",
   "metadata": {
    "execution": {
     "iopub.execute_input": "2023-01-12T15:57:58.927153Z",
     "iopub.status.busy": "2023-01-12T15:57:58.926632Z",
     "iopub.status.idle": "2023-01-12T15:58:00.291583Z",
     "shell.execute_reply": "2023-01-12T15:58:00.290367Z"
    },
    "papermill": {
     "duration": 1.376803,
     "end_time": "2023-01-12T15:58:00.294915",
     "exception": false,
     "start_time": "2023-01-12T15:57:58.918112",
     "status": "completed"
    },
    "tags": []
   },
   "outputs": [],
   "source": [
    "import pandas as pd             \n",
    "import matplotlib.pyplot as plt  \n",
    "from apyori import apriori       \n",
    "import pandas as pd\n",
    "import numpy as np\n",
    "import seaborn as sns"
   ]
  },
  {
   "cell_type": "code",
   "execution_count": 273,
   "id": "16cc8adc",
   "metadata": {
    "execution": {
     "iopub.execute_input": "2023-01-12T15:58:00.349999Z",
     "iopub.status.busy": "2023-01-12T15:58:00.349455Z",
     "iopub.status.idle": "2023-01-12T15:58:00.482599Z",
     "shell.execute_reply": "2023-01-12T15:58:00.481192Z"
    },
    "papermill": {
     "duration": 0.14621,
     "end_time": "2023-01-12T15:58:00.485429",
     "exception": false,
     "start_time": "2023-01-12T15:58:00.339219",
     "status": "completed"
    },
    "tags": []
   },
   "outputs": [
    {
     "name": "stdout",
     "output_type": "stream",
     "text": [
      "9835\n"
     ]
    }
   ],
   "source": [
    "data=pd.read_csv(\"groceries - groceries.csv\")\n",
    "tansaction_no=len(data)\n",
    "print(tansaction_no)"
   ]
  },
  {
   "cell_type": "code",
   "execution_count": 274,
   "id": "42173cef",
   "metadata": {
    "execution": {
     "iopub.execute_input": "2023-01-12T15:58:00.502049Z",
     "iopub.status.busy": "2023-01-12T15:58:00.501437Z",
     "iopub.status.idle": "2023-01-12T15:58:00.539674Z",
     "shell.execute_reply": "2023-01-12T15:58:00.538263Z"
    },
    "papermill": {
     "duration": 0.04996,
     "end_time": "2023-01-12T15:58:00.542510",
     "exception": false,
     "start_time": "2023-01-12T15:58:00.492550",
     "status": "completed"
    },
    "tags": []
   },
   "outputs": [],
   "source": [
    "record = []\n",
    "for i in range(0,100):\n",
    "    record.append([str(data.values[i,j]) for j in range(0,25)])\n",
    "\n",
    "\n"
   ]
  },
  {
   "cell_type": "code",
   "execution_count": 285,
   "id": "d9a19f4e",
   "metadata": {
    "execution": {
     "iopub.execute_input": "2023-01-12T15:58:00.600462Z",
     "iopub.status.busy": "2023-01-12T15:58:00.599934Z",
     "iopub.status.idle": "2023-01-12T15:58:00.613039Z",
     "shell.execute_reply": "2023-01-12T15:58:00.612018Z"
    },
    "papermill": {
     "duration": 0.024411,
     "end_time": "2023-01-12T15:58:00.615684",
     "exception": false,
     "start_time": "2023-01-12T15:58:00.591273",
     "status": "completed"
    },
    "tags": []
   },
   "outputs": [
    {
     "data": {
      "text/plain": [
       "0.010232600005110726"
      ]
     },
     "execution_count": 285,
     "metadata": {},
     "output_type": "execute_result"
    }
   ],
   "source": [
    "rules=apriori(record,min_support=0.03,min_length=2)\n",
    "import timeit\n",
    "timeit.timeit()"
   ]
  },
  {
   "cell_type": "code",
   "execution_count": 286,
   "id": "abf1afac",
   "metadata": {
    "execution": {
     "iopub.execute_input": "2023-01-12T15:58:00.632530Z",
     "iopub.status.busy": "2023-01-12T15:58:00.632066Z",
     "iopub.status.idle": "2023-01-12T15:58:00.646758Z",
     "shell.execute_reply": "2023-01-12T15:58:00.645122Z"
    },
    "papermill": {
     "duration": 0.026552,
     "end_time": "2023-01-12T15:58:00.649505",
     "exception": false,
     "start_time": "2023-01-12T15:58:00.622953",
     "status": "completed"
    },
    "tags": []
   },
   "outputs": [],
   "source": [
    "result=list(rules)"
   ]
  },
  {
   "cell_type": "code",
   "execution_count": 288,
   "metadata": {},
   "outputs": [
    {
     "data": {
      "text/plain": [
       "217"
      ]
     },
     "execution_count": 288,
     "metadata": {},
     "output_type": "execute_result"
    }
   ],
   "source": [
    "len(result)"
   ]
  }
 ],
 "metadata": {
  "kernelspec": {
   "display_name": "Python 3 (ipykernel)",
   "language": "python",
   "name": "python3"
  },
  "language_info": {
   "codemirror_mode": {
    "name": "ipython",
    "version": 3
   },
   "file_extension": ".py",
   "mimetype": "text/x-python",
   "name": "python",
   "nbconvert_exporter": "python",
   "pygments_lexer": "ipython3",
   "version": "3.10.6"
  },
  "papermill": {
   "default_parameters": {},
   "duration": 33.017158,
   "end_time": "2023-01-12T15:58:04.636262",
   "environment_variables": {},
   "exception": null,
   "input_path": "__notebook__.ipynb",
   "output_path": "__notebook__.ipynb",
   "parameters": {},
   "start_time": "2023-01-12T15:57:31.619104",
   "version": "2.3.4"
  }
 },
 "nbformat": 4,
 "nbformat_minor": 5
}
